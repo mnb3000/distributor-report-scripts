{
 "cells": [
  {
   "cell_type": "code",
   "execution_count": 24,
   "metadata": {
    "collapsed": true
   },
   "outputs": [],
   "source": [
    "import pandas as pd\n",
    "import os\n",
    "\n",
    "prefix = 'prefix'\n",
    "df = pd.read_csv('data.csv')"
   ]
  },
  {
   "cell_type": "markdown",
   "source": [],
   "metadata": {
    "collapsed": false
   }
  },
  {
   "cell_type": "code",
   "execution_count": 25,
   "outputs": [
    {
     "data": {
      "text/plain": "                       Net Revenue in USD\nArtist                                   \nDelirium                         6.240539\nLYKHO                            8.440139\nMax Serzhenko                    0.060786\nMozg ZDox                        0.148636\nPlaisir Douteux                  0.833049\nPovod                            5.933035\nPustosh                          0.765065\nRe-read                          3.254214\nRippedd                          0.556841\nSobakka                          2.128824\nTriple Jump                      0.751324\nTwilight noise                   0.007559\nVarious Artists                  9.515693\nVasily Richter                  48.223272\ncorn wave                      471.340465\ncorn wave 2                      0.235673\ngrotta                           0.225472\nheadachee                        5.449482\njesus christ gay club            1.109874\nlast past.                       5.024119\nmy mother hates me               3.601706\npereulok pyatniskii             19.438621\nplaaaato                         9.962668\nzagublena                        0.383175\nДотла                            0.601889\nЛунар                            4.696408\nПацюк                            9.772986\nФангус Фрог                      2.497667\nколя пацюк                       0.461330\nполивокс                         1.332052\nпубуш                            0.035012\nте, що більше ніж ліс            0.078333\nэлектроник                       2.292918",
      "text/html": "<div>\n<style scoped>\n    .dataframe tbody tr th:only-of-type {\n        vertical-align: middle;\n    }\n\n    .dataframe tbody tr th {\n        vertical-align: top;\n    }\n\n    .dataframe thead th {\n        text-align: right;\n    }\n</style>\n<table border=\"1\" class=\"dataframe\">\n  <thead>\n    <tr style=\"text-align: right;\">\n      <th></th>\n      <th>Net Revenue in USD</th>\n    </tr>\n    <tr>\n      <th>Artist</th>\n      <th></th>\n    </tr>\n  </thead>\n  <tbody>\n    <tr>\n      <th>Delirium</th>\n      <td>6.240539</td>\n    </tr>\n    <tr>\n      <th>LYKHO</th>\n      <td>8.440139</td>\n    </tr>\n    <tr>\n      <th>Max Serzhenko</th>\n      <td>0.060786</td>\n    </tr>\n    <tr>\n      <th>Mozg ZDox</th>\n      <td>0.148636</td>\n    </tr>\n    <tr>\n      <th>Plaisir Douteux</th>\n      <td>0.833049</td>\n    </tr>\n    <tr>\n      <th>Povod</th>\n      <td>5.933035</td>\n    </tr>\n    <tr>\n      <th>Pustosh</th>\n      <td>0.765065</td>\n    </tr>\n    <tr>\n      <th>Re-read</th>\n      <td>3.254214</td>\n    </tr>\n    <tr>\n      <th>Rippedd</th>\n      <td>0.556841</td>\n    </tr>\n    <tr>\n      <th>Sobakka</th>\n      <td>2.128824</td>\n    </tr>\n    <tr>\n      <th>Triple Jump</th>\n      <td>0.751324</td>\n    </tr>\n    <tr>\n      <th>Twilight noise</th>\n      <td>0.007559</td>\n    </tr>\n    <tr>\n      <th>Various Artists</th>\n      <td>9.515693</td>\n    </tr>\n    <tr>\n      <th>Vasily Richter</th>\n      <td>48.223272</td>\n    </tr>\n    <tr>\n      <th>corn wave</th>\n      <td>471.340465</td>\n    </tr>\n    <tr>\n      <th>corn wave 2</th>\n      <td>0.235673</td>\n    </tr>\n    <tr>\n      <th>grotta</th>\n      <td>0.225472</td>\n    </tr>\n    <tr>\n      <th>headachee</th>\n      <td>5.449482</td>\n    </tr>\n    <tr>\n      <th>jesus christ gay club</th>\n      <td>1.109874</td>\n    </tr>\n    <tr>\n      <th>last past.</th>\n      <td>5.024119</td>\n    </tr>\n    <tr>\n      <th>my mother hates me</th>\n      <td>3.601706</td>\n    </tr>\n    <tr>\n      <th>pereulok pyatniskii</th>\n      <td>19.438621</td>\n    </tr>\n    <tr>\n      <th>plaaaato</th>\n      <td>9.962668</td>\n    </tr>\n    <tr>\n      <th>zagublena</th>\n      <td>0.383175</td>\n    </tr>\n    <tr>\n      <th>Дотла</th>\n      <td>0.601889</td>\n    </tr>\n    <tr>\n      <th>Лунар</th>\n      <td>4.696408</td>\n    </tr>\n    <tr>\n      <th>Пацюк</th>\n      <td>9.772986</td>\n    </tr>\n    <tr>\n      <th>Фангус Фрог</th>\n      <td>2.497667</td>\n    </tr>\n    <tr>\n      <th>коля пацюк</th>\n      <td>0.461330</td>\n    </tr>\n    <tr>\n      <th>поливокс</th>\n      <td>1.332052</td>\n    </tr>\n    <tr>\n      <th>пубуш</th>\n      <td>0.035012</td>\n    </tr>\n    <tr>\n      <th>те, що більше ніж ліс</th>\n      <td>0.078333</td>\n    </tr>\n    <tr>\n      <th>электроник</th>\n      <td>2.292918</td>\n    </tr>\n  </tbody>\n</table>\n</div>"
     },
     "execution_count": 25,
     "metadata": {},
     "output_type": "execute_result"
    }
   ],
   "source": [
    "sums = df.groupby(\"Artist\").agg({'Net Revenue in USD': 'sum'})\n",
    "sums"
   ],
   "metadata": {
    "collapsed": false
   }
  },
  {
   "cell_type": "code",
   "execution_count": 28,
   "outputs": [],
   "source": [
    "folderPath = os.path.join(os.path.curdir, prefix)\n",
    "if not os.path.isdir(folderPath):\n",
    "    os.mkdir(folderPath)"
   ],
   "metadata": {
    "collapsed": false
   }
  },
  {
   "cell_type": "code",
   "execution_count": 29,
   "outputs": [],
   "source": [
    "artists = df['Artist'].unique()\n",
    "for artist in artists:\n",
    "    filename = f'{prefix}_{artist}.csv'\n",
    "    filepath = os.path.join(folderPath, filename)\n",
    "    filtered = df[df['Artist'] == artist]\n",
    "    filtered.to_csv(filepath)"
   ],
   "metadata": {
    "collapsed": false
   }
  }
 ],
 "metadata": {
  "kernelspec": {
   "display_name": "Python 3",
   "language": "python",
   "name": "python3"
  },
  "language_info": {
   "codemirror_mode": {
    "name": "ipython",
    "version": 2
   },
   "file_extension": ".py",
   "mimetype": "text/x-python",
   "name": "python",
   "nbconvert_exporter": "python",
   "pygments_lexer": "ipython2",
   "version": "2.7.6"
  }
 },
 "nbformat": 4,
 "nbformat_minor": 0
}
